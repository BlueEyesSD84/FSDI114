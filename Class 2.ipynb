{
 "cells": [
  {
   "cell_type": "markdown",
   "id": "775b9d0d",
   "metadata": {},
   "source": [
    "# STACKS"
   ]
  },
  {
   "cell_type": "code",
   "execution_count": null,
   "id": "d8fbeb01",
   "metadata": {},
   "outputs": [],
   "source": [
    "#Introductory implementation of a stack:\n",
    "# ths implementation uses \"builty-in\" data structures and methods to achieve its goal.\n",
    "# Uses a \"Python LIST\"  i.e. Empty Square Brackets \"[]\"\n",
    "# \"items\"  is the name of our list\n",
    "# \"pop()\"  always forces to remove\n",
    "\n",
    "#Challenge is to write this from scratch\n",
    "\n",
    "class Stack:\n",
    "    def __init__(self):\n",
    "        self.items = []\n",
    "    # these are essential:\n",
    "     def push(self, item):\n",
    "        self.items.append(item)\n",
    "     \n",
    "     def pop(self):\n",
    "        return self.items.pop()\n",
    "           \n",
    "    def is_empty(self):\n",
    "        return self.items == []\n",
    "    \n",
    "    #-1 has to be here as Python is \"0\" indexed\n",
    "    def peek(self):\n",
    "        return self.items[len(self.items)-1]\n",
    "    \n",
    "    def size(self):\n",
    "        retun len(self.items)"
   ]
  },
  {
   "cell_type": "markdown",
   "id": "c41f99f5",
   "metadata": {},
   "source": [
    "# Problem 2\n",
    "### Invert a string using our stack class.\n",
    "\n",
    "Using the stack class above, create a function called \"reverse_str\" that takes a string as a parameter and returns it in inverted order\n",
    "\n",
    "```\n",
    "EXAMPLES:\n",
    "reverse_str(\"Rafael\") == \"leafaR\"\n",
    "reverse_str(\"cars\") == \"srac\"\n",
    "reverse_str(\"house\") == \"esuch\"\n",
    "\n"
   ]
  },
  {
   "cell_type": "code",
   "execution_count": null,
   "id": "10b15cb6",
   "metadata": {},
   "outputs": [],
   "source": [
    "Start\n",
    "\n",
    "Remove any spaces between words/letters (\" \" , \"\")\n",
    "\n",
    "Convert any upper case letters to lower case .lower\n",
    "Initilize stack\n",
    "\n",
    "Push to stack to an \"list\"  []\n",
    "\n",
    "Remove from the stack \"pop\" in reverse order\n",
    "\n",
    "print \"list\"\n",
    "    "
   ]
  },
  {
   "cell_type": "markdown",
   "id": "9f101a21",
   "metadata": {},
   "source": [
    "# QUEUES\n"
   ]
  },
  {
   "cell_type": "code",
   "execution_count": 4,
   "id": "6177527a",
   "metadata": {},
   "outputs": [],
   "source": [
    "#Introductory implementation of a Queue:\n",
    "# ths implementation uses \"builty-in\" data structures and methods to achieve its goal.\n",
    "class Queue:\n",
    "    def __init__(self):\n",
    "        self.items = []\n",
    "        \n",
    "    def enqueue(self, item):\n",
    "        self.items.insert(0, item)\n",
    "        \n",
    "    def dequeue(self):\n",
    "        return self.items.pop()\n",
    "    \n",
    "    def is_empty(self):\n",
    "        return self.itmes == []\n",
    "    \n",
    "    def size(self):\n",
    "        return len(self.items)"
   ]
  },
  {
   "cell_type": "code",
   "execution_count": 6,
   "id": "8b8ac2ea",
   "metadata": {},
   "outputs": [
    {
     "ename": "NameError",
     "evalue": "name 'Node' is not defined",
     "output_type": "error",
     "traceback": [
      "\u001b[0;31m---------------------------------------------------------------------------\u001b[0m",
      "\u001b[0;31mNameError\u001b[0m                                 Traceback (most recent call last)",
      "Cell \u001b[0;32mIn [6], line 5\u001b[0m\n\u001b[1;32m      1\u001b[0m \u001b[38;5;66;03m#Not a good implementation\u001b[39;00m\n\u001b[1;32m      3\u001b[0m x \u001b[38;5;241m=\u001b[39m [\u001b[38;5;241m1\u001b[39m,\u001b[38;5;241m2\u001b[39m,\u001b[38;5;241m3\u001b[39m]\n\u001b[0;32m----> 5\u001b[0m base \u001b[38;5;241m=\u001b[39m Node(x[\u001b[38;5;241m0\u001b[39m])\n\u001b[1;32m      6\u001b[0m new_node \u001b[38;5;241m=\u001b[39m Node(x[\u001b[38;5;241m1\u001b[39m])\n\u001b[1;32m      7\u001b[0m base\u001b[38;5;241m.\u001b[39mabove \u001b[38;5;241m=\u001b[39m new_node\n",
      "\u001b[0;31mNameError\u001b[0m: name 'Node' is not defined"
     ]
    }
   ],
   "source": [
    "#Not a good implementation\n",
    "\n",
    "x = [1,2,3]\n",
    "\n",
    "base = Node(x[0])\n",
    "new_node = Node(x[1])\n",
    "base.above = new_node\n",
    "new_node_one = Node(x[2])\n",
    "new_node.above = new_node_one\n",
    "\n",
    "current = base\n",
    "while current:   #this is the same as \"while current != none\"\n",
    "    print(current.data)\n",
    "    current = current.above"
   ]
  },
  {
   "cell_type": "code",
   "execution_count": null,
   "id": "81d581cf",
   "metadata": {},
   "outputs": [],
   "source": [
    "class Stack:\n",
    "    def __init__(self):\n",
    "        self.base = None\n",
    "        \n",
    "    def push(self, item):\n",
    "        if not self.base:\n",
    "            self.base = Node(item)\n",
    "        else:\n",
    "            curent = self.base \n",
    "            while current.above:\n",
    "                current = current.above\n",
    "            current.above = Node(item)\n",
    "    \n",
    "    def pop(self):\n",
    "        if self.base:\n",
    "            prev = None\n",
    "            current = self.base\n",
    "            while current.above:\n",
    "                prev = current\n",
    "                current = current.above\n",
    "            if not prev:\n",
    "                self.base = None\n",
    "                return current.data\n",
    "            prev.above = None\n",
    "            return current.data\n",
    "        raise IndexError(\"pop from empty stack\")"
   ]
  }
 ],
 "metadata": {
  "kernelspec": {
   "display_name": "Python 3 (ipykernel)",
   "language": "python",
   "name": "python3"
  },
  "language_info": {
   "codemirror_mode": {
    "name": "ipython",
    "version": 3
   },
   "file_extension": ".py",
   "mimetype": "text/x-python",
   "name": "python",
   "nbconvert_exporter": "python",
   "pygments_lexer": "ipython3",
   "version": "3.8.10"
  }
 },
 "nbformat": 4,
 "nbformat_minor": 5
}
