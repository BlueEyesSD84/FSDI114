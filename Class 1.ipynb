{
 "cells": [
  {
   "cell_type": "code",
   "execution_count": 1,
   "id": "e8a629ec",
   "metadata": {},
   "outputs": [
    {
     "name": "stdout",
     "output_type": "stream",
     "text": [
      "H\n",
      "e\n",
      "l\n",
      "l\n",
      "o\n",
      " \n",
      "W\n",
      "o\n",
      "r\n",
      "l\n",
      "d\n",
      "!\n"
     ]
    }
   ],
   "source": [
    "for letter in \"Hello World!\":\n",
    "    print(letter)\n",
    "    #use SHIFT+ENTER to run line"
   ]
  },
  {
   "cell_type": "markdown",
   "id": "f91711eb",
   "metadata": {},
   "source": [
    "# Problem 1\n",
    "## Given two strings as input determine if they are anagrams of each other give the following criteria\n",
    "\n",
    "1. Two strings are only anagrams of each other if all conditions below are met:\n",
    "2. They must use exactly the same characters.\n",
    "\n",
    "```\n",
    "Examples:\n",
    "cars and scar\n",
    "heart and earth\n",
    "etc \n",
    "```\n",
    "##### Note: Once you've copied everything press SHIFT+ENTER"
   ]
  },
  {
   "cell_type": "code",
   "execution_count": 4,
   "id": "1c653178",
   "metadata": {},
   "outputs": [
    {
     "data": {
      "text/plain": [
       "True"
      ]
     },
     "execution_count": 4,
     "metadata": {},
     "output_type": "execute_result"
    }
   ],
   "source": [
    "# This is a BAD idea:\n",
    "\n",
    "def anagram_check(str1, str2):\n",
    "    return sorted(str1) == sorted(str2)\n",
    "\n",
    "anagram_check(\"heart\", \"earth\")"
   ]
  },
  {
   "cell_type": "code",
   "execution_count": 5,
   "id": "83d0a4d7",
   "metadata": {},
   "outputs": [],
   "source": [
    "# define function anagram_check: parameters ->(string1, string2)\n",
    "#    if the length of string1 is not equal to the length of string2:\n",
    "#    return False (exit immedieatly)\n",
    "#\n",
    "#    dict_for_s1 = dict()\n",
    "#    dict_for_2 = dict()\n",
    "#    if the length of string1 is equal to the length of string2:\n",
    "#       for each index in the range from 0 to the lenght of string1:\n",
    "#               if the character at the [position \"index\" of string1 is in dict_for_s1:\n",
    "#                     dict_for_s1[index] + 1\n",
    "#                else\n",
    "#                     create a new key in dict_for_s1 for teh character at position \"index\"\n",
    "#                if the character at position \"index\" of string2 is in dict_for_s2:\n",
    "#                     dict_for_s2[index] + 1\n",
    "#                 else\n",
    "#                     create a new key in dict_for_s2 for the character at posistion \"index\"\n",
    "#        return dict_for_s1 == dict_for_s2"
   ]
  },
  {
   "cell_type": "code",
   "execution_count": 5,
   "id": "1e2f4228",
   "metadata": {},
   "outputs": [],
   "source": [
    "# what about the following example:\n",
    "# \"Tom Marvollo Riddle\" and \"I am Lord Voldemort\""
   ]
  },
  {
   "cell_type": "code",
   "execution_count": 8,
   "id": "2787d2c8",
   "metadata": {},
   "outputs": [
    {
     "name": "stdout",
     "output_type": "stream",
     "text": [
      "tommarvolloriddle and iamlordvoldemort are not anagrams\n"
     ]
    }
   ],
   "source": [
    "def anagrams(inp1: str, inp2: str) -> bool:\n",
    "  # if the length of the two strings is not the same, they are not anagrams.\n",
    "  if len(inp1) != len(inp2):\n",
    "      return False\n",
    " \n",
    "  # initialize the dictionary\n",
    "  counts = {}\n",
    " \n",
    "  # loop simultaneously through the characters of the two strings.\n",
    "  for c1, c2 in zip(inp1, inp2):\n",
    "    if c1 in counts.keys():\n",
    "      counts[c1] += 1\n",
    "    else:\n",
    "      counts[c1] = 1\n",
    "    if c2 in counts.keys():\n",
    "      counts[c2] -= 1\n",
    "    else:\n",
    "      counts[c2] = -1\n",
    " \n",
    "  # Loop through the dictionary values.\n",
    "  # if the dictionary contains even one value which is\n",
    "  # different than 0, the strings are not anagrams.\n",
    "  for count in counts.values():\n",
    "    if count != 0:\n",
    "      return False\n",
    "  return True\n",
    " \n",
    "# test the implementation\n",
    "def main():\n",
    "  inp1 = \"tommarvolloriddle\"\n",
    "  inp2 = \"iamlordvoldemort\"\n",
    "  if anagrams(inp1, inp2):\n",
    "    print(f\"{inp1} and {inp2} are anagrams\")\n",
    "  else:\n",
    "    print(f\"{inp1} and {inp2} are not anagrams\")\n",
    " \n",
    "if __name__ == \"__main__\":\n",
    "  main()"
   ]
  },
  {
   "cell_type": "code",
   "execution_count": 12,
   "id": "1b1b43ba",
   "metadata": {},
   "outputs": [
    {
     "name": "stdout",
     "output_type": "stream",
     "text": [
      "True\n"
     ]
    }
   ],
   "source": [
    "s1 = \"Fairy Tales\"\n",
    "s2 = \"rAil SafEty\"\n",
    "\n",
    "s1 = s1.replace(\" \", \"\").lower()\n",
    "s2 = s2.replace(\" \", \"\").lower()\n",
    "\n",
    "def is_anagram(s1,s2):\n",
    "    ht = dict()\n",
    "    \n",
    "    if len(s1) != len(s2):\n",
    "        return False\n",
    "    \n",
    "    for i in s1:\n",
    "        if i in ht:\n",
    "            ht[i] += 1\n",
    "        else:\n",
    "            ht[i] = 1\n",
    "            \n",
    "    for i in s2:\n",
    "        if i in ht:\n",
    "            ht[i] -= 1\n",
    "        else:\n",
    "            ht[i] = 1\n",
    "            \n",
    "    for i in ht:\n",
    "        if ht[i] != 0:\n",
    "            return False\n",
    "    return True\n",
    "\n",
    "print(is_anagram(s1, s2))"
   ]
  },
  {
   "cell_type": "code",
   "execution_count": 1,
   "id": "db63d44c",
   "metadata": {},
   "outputs": [
    {
     "name": "stdout",
     "output_type": "stream",
     "text": [
      "True\n"
     ]
    }
   ],
   "source": [
    "s1 = \"I am lord voldemort\"\n",
    "s2 = \"Tom Marvolo Riddle\"\n",
    "\n",
    "\n",
    "s1 = s1.replace(\" \", \"\").lower()\n",
    "s2 = s2.replace(\" \", \"\").lower()\n",
    "\n",
    "def is_anagram(s1,s2):\n",
    "    ht = dict()\n",
    "    \n",
    "    if len(s1) != len(s2):\n",
    "           return False\n",
    "    \n",
    "    for i in s1:\n",
    "        if i in ht:\n",
    "            ht[i] += 1\n",
    "        else:\n",
    "            ht[i] = 1\n",
    "            \n",
    "    for i in s2:\n",
    "        if i in ht:\n",
    "            ht[i] -= 1\n",
    "        else:\n",
    "            ht[i] = 1\n",
    "            \n",
    "    for i in ht:\n",
    "        if ht[i] != 0:\n",
    "            return False\n",
    "    return True\n",
    "\n",
    "print(is_anagram(s1, s2))"
   ]
  },
  {
   "cell_type": "code",
   "execution_count": null,
   "id": "b3b9abc1",
   "metadata": {},
   "outputs": [],
   "source": []
  }
 ],
 "metadata": {
  "kernelspec": {
   "display_name": "Python 3 (ipykernel)",
   "language": "python",
   "name": "python3"
  },
  "language_info": {
   "codemirror_mode": {
    "name": "ipython",
    "version": 3
   },
   "file_extension": ".py",
   "mimetype": "text/x-python",
   "name": "python",
   "nbconvert_exporter": "python",
   "pygments_lexer": "ipython3",
   "version": "3.8.10"
  }
 },
 "nbformat": 4,
 "nbformat_minor": 5
}
